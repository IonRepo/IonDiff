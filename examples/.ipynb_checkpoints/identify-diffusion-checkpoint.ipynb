{
 "cells": [
  {
   "cell_type": "code",
   "execution_count": 1,
   "id": "0800a3f7",
   "metadata": {
    "scrolled": true
   },
   "outputs": [],
   "source": [
    "import numpy as np\n",
    "import argparse\n",
    "import logging\n",
    "import settings\n",
    "\n",
    "from IonDiff import identify_diffusion   as ID_library\n",
    "from IonDiff import analyze_correlations as AC_library\n",
    "from IonDiff import analyze_descriptors  as AD_library\n",
    "\n",
    "from datetime import datetime"
   ]
  },
  {
   "cell_type": "markdown",
   "id": "67afd559",
   "metadata": {},
   "source": [
    "The command line variables are read. Three options are considered:\n",
    "\n",
    "- Identification of diffusive paths from a molecular dynamics simulation.\n",
    "\n",
    "- Analysis of correlations among diffusive paths.\n",
    "\n",
    "- Analysis of atomistic descriptors extracted from the diffusive paths (under active development).\n",
    "\n",
    "At the input folder, a XDATCAR file with all the configurations of the system through simulation is required.\n",
    "Optionally, a POSCAR can be supplied with the initial configuration.\n",
    "As well, an INCAR specifying POTIM (simulation time step) and NBLOCK (number of simulation steps between\n",
    "consecutive configurations in the XDATCAR) is necessary."
   ]
  },
  {
   "cell_type": "code",
   "execution_count": 2,
   "id": "7bd238bc",
   "metadata": {},
   "outputs": [],
   "source": [
    "args.MD_path ='.'  # Path to the input molecular dynamics simulation files\n",
    "args.classifier = 'K-means'  # Name of the classifier used to group non-diffusive particles (\"K-means\" or \"Spectral\")\n",
    "args.distance_thd = 0.4  # Distance threshold from the diffusive path to the vibrational center\n",
    "args.silhouette_thd = 0.7  # Silhouette value threshold for selecting the correct number of vibrational groups\n",
    "args.make_plot = False  # Whether to plot the clustering calculations or not\n",
    "args.n_attempts = 10  # Number of considered possible diffusive events during a simulation"
   ]
  },
  {
   "cell_type": "code",
   "execution_count": null,
   "id": "fcec3005",
   "metadata": {},
   "outputs": [],
   "source": [
    "# Configuring loggin information\n",
    "logging.basicConfig(\n",
    "    filename=settings.LOGS_PATH / f'identify_diffusion_{datetime.now().strftime(\"%Y-%m-%d_%H:%M:%S\")}.log',\n",
    "    format='%(asctime)s - [%(levelname)s] - %(message)s',\n",
    "    level=logging.INFO,\n",
    ")\n",
    "\n",
    "# Performing the specified task\n",
    "# Logging update\n",
    "logging.info(f'Task: Extracting diffusive paths from MD simulation at {args.MD_path}.')\n",
    "\n",
    "# Calling the library and loading the class\n",
    "inp = ID_library.xdatcar(args)\n",
    "\n",
    "# Logging update\n",
    "logging.info(f'Simulation successfully loaded.')\n",
    "\n",
    "# Computing the diffusive paths\n",
    "diffusive_paths = inp.get_diffusion(args)\n",
    "\n",
    "# Saving the results\n",
    "np.savetxt(f'{args.MD_path}/DIFFUSION', diffusive_paths)\n",
    "\n",
    "# Logging update\n",
    "logging.info(f'Diffusive information successfully extracted and saved.')"
   ]
  }
 ],
 "metadata": {
  "kernelspec": {
   "display_name": "Python 3 (ipykernel)",
   "language": "python",
   "name": "python3"
  },
  "language_info": {
   "codemirror_mode": {
    "name": "ipython",
    "version": 3
   },
   "file_extension": ".py",
   "mimetype": "text/x-python",
   "name": "python",
   "nbconvert_exporter": "python",
   "pygments_lexer": "ipython3",
   "version": "3.11.1"
  }
 },
 "nbformat": 4,
 "nbformat_minor": 5
}
