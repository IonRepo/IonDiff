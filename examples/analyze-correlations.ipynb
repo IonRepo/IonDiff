{
 "cells": [
  {
   "cell_type": "code",
   "execution_count": 1,
   "id": "0800a3f7",
   "metadata": {
    "scrolled": true
   },
   "outputs": [],
   "source": [
    "import numpy as np\n",
    "import argparse\n",
    "import logging\n",
    "import settings\n",
    "\n",
    "from IonDiff import identify_diffusion   as ID_library\n",
    "from IonDiff import analyze_correlations as AC_library\n",
    "from IonDiff import analyze_descriptors  as AD_library\n",
    "\n",
    "from datetime import datetime"
   ]
  },
  {
   "cell_type": "markdown",
   "id": "98dce2c5",
   "metadata": {},
   "source": [
    "The command line variables are read. Three options are considered:\n",
    "\n",
    "- Identification of diffusive paths from a molecular dynamics simulation.\n",
    "\n",
    "- Analysis of correlations among diffusive paths.\n",
    "\n",
    "- Analysis of atomistic descriptors extracted from the diffusive paths (under active development).\n",
    "\n",
    "At the input folder, a XDATCAR file with all the configurations of the system through simulation is required.\n",
    "Optionally, a POSCAR can be supplied with the initial configuration.\n",
    "As well, an INCAR specifying POTIM (simulation time step) and NBLOCK (number of simulation steps between\n",
    "consecutive configurations in the XDATCAR) is necessary."
   ]
  },
  {
   "cell_type": "code",
   "execution_count": 2,
   "id": "7bd238bc",
   "metadata": {},
   "outputs": [],
   "source": [
    "class args:\n",
    "    def __init__(self):\n",
    "        args.MD_path = '.'  # Path to the input molecular dynamics simulation files\n",
    "        args.max_corr = 20  # Maximum number of correlated bodies considered for representation (max_corr=-1 to select all of them)\n",
    "        args.threshold = 2  # Threshold for removing random correlations among particles lower than the threshold, between [-1, 1] (threshold=2 to automatically compute it)\n",
    "\n",
    "# Initialize class\n",
    "args = args()"
   ]
  },
  {
   "cell_type": "code",
   "execution_count": null,
   "id": "f4b408d8",
   "metadata": {},
   "outputs": [],
   "source": [
    "# Configuring loggin information\n",
    "logging.basicConfig(\n",
    "    filename=settings.LOGS_PATH / f'analyze_correlations_{datetime.now().strftime(\"%Y-%m-%d_%H:%M:%S\")}.log',\n",
    "    format='%(asctime)s - [%(levelname)s] - %(message)s',\n",
    "    level=logging.INFO,\n",
    ")\n",
    "\n",
    "# Saving logging information\n",
    "logging.info(f'Task: Analysing N-body correlations from MD simulations database at {args.MD_path}.')\n",
    "\n",
    "# Calling the library and executing the analysis\n",
    "AC_library.database(args)"
   ]
  }
 ],
 "metadata": {
  "kernelspec": {
   "display_name": "Python 3 (ipykernel)",
   "language": "python",
   "name": "python3"
  },
  "language_info": {
   "codemirror_mode": {
    "name": "ipython",
    "version": 3
   },
   "file_extension": ".py",
   "mimetype": "text/x-python",
   "name": "python",
   "nbconvert_exporter": "python",
   "pygments_lexer": "ipython3",
   "version": "3.11.1"
  }
 },
 "nbformat": 4,
 "nbformat_minor": 5
}
