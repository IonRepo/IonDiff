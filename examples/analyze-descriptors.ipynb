{
 "cells": [
  {
   "cell_type": "code",
   "execution_count": 1,
   "id": "0800a3f7",
   "metadata": {
    "scrolled": true
   },
   "outputs": [],
   "source": [
    "import numpy as np\n",
    "import logging\n",
    "import json\n",
    "\n",
    "from IonDiff import analyze_descriptors  as AD_library\n",
    "\n",
    "from datetime import datetime"
   ]
  },
  {
   "cell_type": "markdown",
   "id": "98dce2c5",
   "metadata": {},
   "source": [
    "Analysis of atomistic descriptors extracted from the diffusive paths (under active development).\n",
    "\n",
    "At the input folder, a XDATCAR file with all the configurations of the system through simulation is required.\n",
    "Optionally, a POSCAR can be supplied with the initial configuration.\n",
    "As well, an INCAR specifying POTIM (simulation time step) and NBLOCK (number of simulation steps between\n",
    "consecutive configurations in the XDATCAR) is necessary."
   ]
  },
  {
   "cell_type": "code",
   "execution_count": 2,
   "id": "7bd238bc",
   "metadata": {},
   "outputs": [],
   "source": [
    "class args:\n",
    "    def __init__(self):\n",
    "        args.MD_path = '.'  # Path to the input molecular dynamics simulation files\n",
    "        args.reference_path = None  # Path to a folder with a stoichiometric POSCAR structure file for the simulation of the given material\n",
    "\n",
    "# Initialize class\n",
    "args = args()"
   ]
  },
  {
   "cell_type": "code",
   "execution_count": 3,
   "id": "f4b408d8",
   "metadata": {},
   "outputs": [],
   "source": [
    "# Configuring loggin information\n",
    "logging.basicConfig(\n",
    "    filename=f'../logs/analyze_descriptors_{datetime.now().strftime(\"%Y-%m-%d_%H:%M:%S\")}.log',\n",
    "    format='%(asctime)s - [%(levelname)s] - %(message)s',\n",
    "    level=logging.INFO,\n",
    ")\n",
    "\n",
    "# Saving logging information\n",
    "logging.info(f'Task: Analysing atomistic descriptors from MD simulations database at {args.MD_path}.')\n",
    "\n",
    "# Calling the library and loading the class\n",
    "inp = AD_library.descriptors(args)\n",
    "\n",
    "# Computing descriptors\n",
    "time_interval      = inp.time_until_diffusion()\n",
    "temporal_duration  = inp.duration_of_diffusion()\n",
    "spatial_length     = inp.length_of_diffusion(outer='nan')\n",
    "n_diffusive_events = inp.n_diffusive_events()\n",
    "residence_time     = inp.residence_time(args)[0] if args.reference_path is not None else None\n",
    "\n",
    "# Save descriptors as dictionary\n",
    "descriptors = {\n",
    "    'MD_path':      args.MD_path,\n",
    "    'delta_t_min':  np.min(time_interval),\n",
    "    'delta_t_max':  np.max(time_interval),\n",
    "    'delta_t_mean': np.mean(time_interval),\n",
    "    'delta_r_min':  np.min(temporal_duration),\n",
    "    'delta_r_max':  np.max(temporal_duration),\n",
    "    'delta_r_mean': np.mean(temporal_duration),\n",
    "    'gamma':        residence_time\n",
    "}\n",
    "\n",
    "# Logging update\n",
    "logging.info(f'Descriptors successfully extracted.')\n",
    "\n",
    "# Write the dictionary to the file in JSON format\n",
    "with open(f'{args.MD_path}/atomistic_descriptors.json', 'w') as json_file:\n",
    "    json.dump(descriptors, json_file)\n",
    "\n",
    "# Logging update\n",
    "logging.info(f'Descriptors successfully saved.')"
   ]
  }
 ],
 "metadata": {
  "kernelspec": {
   "display_name": "Python 3 (ipykernel)",
   "language": "python",
   "name": "python3"
  },
  "language_info": {
   "codemirror_mode": {
    "name": "ipython",
    "version": 3
   },
   "file_extension": ".py",
   "mimetype": "text/x-python",
   "name": "python",
   "nbconvert_exporter": "python",
   "pygments_lexer": "ipython3",
   "version": "3.11.1"
  }
 },
 "nbformat": 4,
 "nbformat_minor": 5
}
