{
 "cells": [
  {
   "cell_type": "code",
   "execution_count": 1,
   "id": "0800a3f7",
   "metadata": {
    "scrolled": true
   },
   "outputs": [],
   "source": [
    "import numpy as np\n",
    "import argparse\n",
    "import logging\n",
    "\n",
    "from IonDiff import identify_diffusion   as ID_library\n",
    "from IonDiff import analyze_correlations as AC_library\n",
    "from IonDiff import analyze_descriptors  as AD_library\n",
    "\n",
    "from datetime import datetime"
   ]
  },
  {
   "cell_type": "markdown",
   "id": "98dce2c5",
   "metadata": {},
   "source": [
    "The command line variables are read. Three options are considered:\n",
    "\n",
    "- Identification of diffusive paths from a molecular dynamics simulation.\n",
    "\n",
    "- Analysis of correlations among diffusive paths.\n",
    "\n",
    "- Analysis of atomistic descriptors extracted from the diffusive paths (under active development).\n",
    "\n",
    "At the input folder, a XDATCAR file with all the configurations of the system through simulation is required.\n",
    "Optionally, a POSCAR can be supplied with the initial configuration.\n",
    "As well, an INCAR specifying POTIM (simulation time step) and NBLOCK (number of simulation steps between\n",
    "consecutive configurations in the XDATCAR) is necessary."
   ]
  },
  {
   "cell_type": "code",
   "execution_count": 2,
   "id": "7bd238bc",
   "metadata": {},
   "outputs": [],
   "source": [
    "class args:\n",
    "    def __init__(self):\n",
    "        args.MD_path = '.'  # Path to the input molecular dynamics simulation files\n",
    "        args.reference_path = None  # Path to a folder with a stoichiometric POSCAR structure file for the simulation of the given material\n",
    "\n",
    "# Initialize class\n",
    "args = args()"
   ]
  },
  {
   "cell_type": "code",
   "execution_count": 3,
   "id": "f4b408d8",
   "metadata": {},
   "outputs": [
    {
     "ename": "AttributeError",
     "evalue": "'descriptors' object has no attribute 'expanded_matrix'",
     "output_type": "error",
     "traceback": [
      "\u001b[0;31m---------------------------------------------------------------------------\u001b[0m",
      "\u001b[0;31mAttributeError\u001b[0m                            Traceback (most recent call last)",
      "Cell \u001b[0;32mIn[3], line 15\u001b[0m\n\u001b[1;32m     12\u001b[0m inp \u001b[38;5;241m=\u001b[39m AD_library\u001b[38;5;241m.\u001b[39mdescriptors(args)\n\u001b[1;32m     14\u001b[0m \u001b[38;5;66;03m# Computing descriptors\u001b[39;00m\n\u001b[0;32m---> 15\u001b[0m time_interval      \u001b[38;5;241m=\u001b[39m \u001b[43minp\u001b[49m\u001b[38;5;241;43m.\u001b[39;49m\u001b[43mtime_until_diffusion\u001b[49m\u001b[43m(\u001b[49m\u001b[43m)\u001b[49m\n\u001b[1;32m     16\u001b[0m temporal_duration  \u001b[38;5;241m=\u001b[39m inp\u001b[38;5;241m.\u001b[39mduration_of_diffusion()\n\u001b[1;32m     17\u001b[0m spatial_length     \u001b[38;5;241m=\u001b[39m inp\u001b[38;5;241m.\u001b[39mlength_of_diffusion(outer\u001b[38;5;241m=\u001b[39m\u001b[38;5;124m'\u001b[39m\u001b[38;5;124mnan\u001b[39m\u001b[38;5;124m'\u001b[39m)\n",
      "File \u001b[0;32m/Library/Frameworks/Python.framework/Versions/3.11/lib/python3.11/site-packages/IonDiff/analyze_descriptors.py:65\u001b[0m, in \u001b[0;36mdescriptors.time_until_diffusion\u001b[0;34m(self, index, outer)\u001b[0m\n\u001b[1;32m     49\u001b[0m \u001b[38;5;28;01mdef\u001b[39;00m \u001b[38;5;21mtime_until_diffusion\u001b[39m(\u001b[38;5;28mself\u001b[39m, index\u001b[38;5;241m=\u001b[39m\u001b[38;5;241m0\u001b[39m, outer\u001b[38;5;241m=\u001b[39m\u001b[38;5;28;01mNone\u001b[39;00m):\n\u001b[1;32m     50\u001b[0m \u001b[38;5;250m    \u001b[39m\u001b[38;5;124;03m\"\"\"\u001b[39;00m\n\u001b[1;32m     51\u001b[0m \u001b[38;5;124;03m    Calculates an array with the number of steps until the start of the first diffusion of a particle.\u001b[39;00m\n\u001b[1;32m     52\u001b[0m \u001b[38;5;124;03m    Expanded matrix in 'separate' or 'cleaned' format is mandatory.\u001b[39;00m\n\u001b[0;32m   (...)\u001b[0m\n\u001b[1;32m     63\u001b[0m \u001b[38;5;124;03m        numpy.ndarray: Array with time until diffusion for each particle.\u001b[39;00m\n\u001b[1;32m     64\u001b[0m \u001b[38;5;124;03m    \"\"\"\u001b[39;00m\n\u001b[0;32m---> 65\u001b[0m     n_particles \u001b[38;5;241m=\u001b[39m np\u001b[38;5;241m.\u001b[39mshape(\u001b[38;5;28;43mself\u001b[39;49m\u001b[38;5;241;43m.\u001b[39;49m\u001b[43mexpanded_matrix\u001b[49m)[\u001b[38;5;241m1\u001b[39m]\n\u001b[1;32m     66\u001b[0m     initial_times \u001b[38;5;241m=\u001b[39m np\u001b[38;5;241m.\u001b[39mzeros(n_particles)\n\u001b[1;32m     67\u001b[0m     \u001b[38;5;28;01mfor\u001b[39;00m i \u001b[38;5;129;01min\u001b[39;00m \u001b[38;5;28mrange\u001b[39m(n_particles):\n",
      "\u001b[0;31mAttributeError\u001b[0m: 'descriptors' object has no attribute 'expanded_matrix'"
     ]
    }
   ],
   "source": [
    "# Configuring loggin information\n",
    "logging.basicConfig(\n",
    "    filename=f'../logs/analyze_descriptors_{datetime.now().strftime(\"%Y-%m-%d_%H:%M:%S\")}.log',\n",
    "    format='%(asctime)s - [%(levelname)s] - %(message)s',\n",
    "    level=logging.INFO,\n",
    ")\n",
    "\n",
    "# Saving logging information\n",
    "logging.info(f'Task: Analysing atomistic descriptors from MD simulations database at {args.MD_path}.')\n",
    "\n",
    "# Calling the library and loading the class\n",
    "inp = AD_library.descriptors(args)\n",
    "\n",
    "# Computing descriptors\n",
    "time_interval      = inp.time_until_diffusion()\n",
    "temporal_duration  = inp.duration_of_diffusion()\n",
    "spatial_length     = inp.length_of_diffusion(outer='nan')\n",
    "n_diffusive_events = inp.n_diffusive_events()\n",
    "residence_time     = inp.residence_time(args)[0] if args.reference_path is not None else None\n",
    "\n",
    "# Save descriptors as dictionary\n",
    "descriptors = {\n",
    "    MD_path:      args.MD_path,\n",
    "    delta_t_min:  np.min(time_interval),\n",
    "    delta_t_max:  np.max(time_interval),\n",
    "    delta_t_mean: np.mean(time_interval),\n",
    "    delta_r_min:  np.min(temporal_duration),\n",
    "    delta_r_max:  np.max(temporal_duration),\n",
    "    delta_r_mean: np.mean(temporal_duration),\n",
    "    gamma:        residence_time\n",
    "}\n",
    "\n",
    "# Logging update\n",
    "logging.info(f'Descriptors successfully extracted.')\n",
    "\n",
    "# Write the dictionary to the file in JSON format\n",
    "with open(f'{args.MD_path}/atomistic_descriptors.json', 'w') as json_file:\n",
    "    json.dump(descriptors, json_file)\n",
    "\n",
    "# Logging update\n",
    "logging.info(f'Descriptors successfully saved.')"
   ]
  }
 ],
 "metadata": {
  "kernelspec": {
   "display_name": "Python 3 (ipykernel)",
   "language": "python",
   "name": "python3"
  },
  "language_info": {
   "codemirror_mode": {
    "name": "ipython",
    "version": 3
   },
   "file_extension": ".py",
   "mimetype": "text/x-python",
   "name": "python",
   "nbconvert_exporter": "python",
   "pygments_lexer": "ipython3",
   "version": "3.11.1"
  }
 },
 "nbformat": 4,
 "nbformat_minor": 5
}
