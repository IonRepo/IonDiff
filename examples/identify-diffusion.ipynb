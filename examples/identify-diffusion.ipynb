{
 "cells": [
  {
   "cell_type": "code",
   "execution_count": 1,
   "id": "0800a3f7",
   "metadata": {
    "scrolled": true
   },
   "outputs": [],
   "source": [
    "import numpy as np\n",
    "import argparse\n",
    "import logging\n",
    "\n",
    "from IonDiff import identify_diffusion   as ID_library\n",
    "from IonDiff import analyze_correlations as AC_library\n",
    "from IonDiff import analyze_descriptors  as AD_library\n",
    "\n",
    "from datetime import datetime"
   ]
  },
  {
   "cell_type": "markdown",
   "id": "67afd559",
   "metadata": {},
   "source": [
    "The command line variables are read. Three options are considered:\n",
    "\n",
    "- Identification of diffusive paths from a molecular dynamics simulation.\n",
    "\n",
    "- Analysis of correlations among diffusive paths.\n",
    "\n",
    "- Analysis of atomistic descriptors extracted from the diffusive paths (under active development).\n",
    "\n",
    "At the input folder, a XDATCAR file with all the configurations of the system through simulation is required.\n",
    "Optionally, a POSCAR can be supplied with the initial configuration.\n",
    "As well, an INCAR specifying POTIM (simulation time step) and NBLOCK (number of simulation steps between\n",
    "consecutive configurations in the XDATCAR) is necessary."
   ]
  },
  {
   "cell_type": "code",
   "execution_count": 2,
   "id": "102f0e07",
   "metadata": {},
   "outputs": [],
   "source": [
    "class args:\n",
    "    def __init__(self):\n",
    "        args.MD_path = '2'  # Path to the input molecular dynamics simulation files\n",
    "        args.classifier = 'K-means'  # Name of the classifier used to group non-diffusive particles (\"K-means\" or \"Spectral\")\n",
    "        args.distance_thd = 0.4  # Distance threshold from the diffusive path to the vibrational center\n",
    "        args.silhouette_thd = 0.7  # Silhouette value threshold for selecting the correct number of vibrational groups\n",
    "        args.make_plot = False  # Whether to plot the clustering calculations or not\n",
    "        args.n_attempts = 10  # Number of considered possible diffusive events during a simulation\n",
    "\n",
    "# Initialize class\n",
    "args = args()"
   ]
  },
  {
   "cell_type": "code",
   "execution_count": 3,
   "id": "fcec3005",
   "metadata": {},
   "outputs": [
    {
     "ename": "NameError",
     "evalue": "name 'kmeans_kwargs' is not defined",
     "output_type": "error",
     "traceback": [
      "\u001b[0;31m---------------------------------------------------------------------------\u001b[0m",
      "\u001b[0;31mNameError\u001b[0m                                 Traceback (most recent call last)",
      "Cell \u001b[0;32mIn[3], line 19\u001b[0m\n\u001b[1;32m     16\u001b[0m logging\u001b[38;5;241m.\u001b[39minfo(\u001b[38;5;124mf\u001b[39m\u001b[38;5;124m'\u001b[39m\u001b[38;5;124mSimulation successfully loaded.\u001b[39m\u001b[38;5;124m'\u001b[39m)\n\u001b[1;32m     18\u001b[0m \u001b[38;5;66;03m# Computing the diffusive paths\u001b[39;00m\n\u001b[0;32m---> 19\u001b[0m diffusive_paths \u001b[38;5;241m=\u001b[39m \u001b[43minp\u001b[49m\u001b[38;5;241;43m.\u001b[39;49m\u001b[43mget_diffusion\u001b[49m\u001b[43m(\u001b[49m\u001b[43margs\u001b[49m\u001b[43m)\u001b[49m\n\u001b[1;32m     21\u001b[0m \u001b[38;5;66;03m# Saving the results\u001b[39;00m\n\u001b[1;32m     22\u001b[0m np\u001b[38;5;241m.\u001b[39msavetxt(\u001b[38;5;124mf\u001b[39m\u001b[38;5;124m'\u001b[39m\u001b[38;5;132;01m{\u001b[39;00margs\u001b[38;5;241m.\u001b[39mMD_path\u001b[38;5;132;01m}\u001b[39;00m\u001b[38;5;124m/DIFFUSION\u001b[39m\u001b[38;5;124m'\u001b[39m, diffusive_paths)\n",
      "File \u001b[0;32m/Library/Frameworks/Python.framework/Versions/3.11/lib/python3.11/site-packages/IonDiff/identify_diffusion.py:117\u001b[0m, in \u001b[0;36mxdatcar.get_diffusion\u001b[0;34m(self, args)\u001b[0m\n\u001b[1;32m    114\u001b[0m coordinates \u001b[38;5;241m=\u001b[39m full_coordinates[:, particle]\n\u001b[1;32m    116\u001b[0m \u001b[38;5;66;03m# Recommended number of clusters\u001b[39;00m\n\u001b[0;32m--> 117\u001b[0m n_clusters \u001b[38;5;241m=\u001b[39m \u001b[43mCL\u001b[49m\u001b[38;5;241;43m.\u001b[39;49m\u001b[43mcalculate_silhouette\u001b[49m\u001b[43m(\u001b[49m\u001b[43mcoordinates\u001b[49m\u001b[43m,\u001b[49m\n\u001b[1;32m    118\u001b[0m \u001b[43m                                     \u001b[49m\u001b[43margs\u001b[49m\u001b[38;5;241;43m.\u001b[39;49m\u001b[43mclassifier\u001b[49m\u001b[43m,\u001b[49m\n\u001b[1;32m    119\u001b[0m \u001b[43m                                     \u001b[49m\u001b[43margs\u001b[49m\u001b[38;5;241;43m.\u001b[39;49m\u001b[43mn_attempts\u001b[49m\u001b[43m,\u001b[49m\n\u001b[1;32m    120\u001b[0m \u001b[43m                                     \u001b[49m\u001b[43margs\u001b[49m\u001b[38;5;241;43m.\u001b[39;49m\u001b[43msilhouette_thd\u001b[49m\u001b[43m)\u001b[49m\n\u001b[1;32m    122\u001b[0m \u001b[38;5;66;03m# Information from the clustering\u001b[39;00m\n\u001b[1;32m    123\u001b[0m centers, classification, vibration, cluster_change \u001b[38;5;241m=\u001b[39m CL\u001b[38;5;241m.\u001b[39mcalculate_clusters(coordinates,\n\u001b[1;32m    124\u001b[0m                                                                            n_clusters,\n\u001b[1;32m    125\u001b[0m                                                                            args\u001b[38;5;241m.\u001b[39mclassifier,\n\u001b[1;32m    126\u001b[0m                                                                            args\u001b[38;5;241m.\u001b[39mdistance_thd)\n",
      "File \u001b[0;32m/Library/Frameworks/Python.framework/Versions/3.11/lib/python3.11/site-packages/IonDiff/common_library.py:476\u001b[0m, in \u001b[0;36mcalculate_silhouette\u001b[0;34m(coordinates, method, n_attempts, silhouette_thd)\u001b[0m\n\u001b[1;32m    474\u001b[0m \u001b[38;5;66;03m# Iterating over each number of clusters\u001b[39;00m\n\u001b[1;32m    475\u001b[0m \u001b[38;5;28;01mfor\u001b[39;00m n_clusters \u001b[38;5;129;01min\u001b[39;00m all_clusters:\n\u001b[0;32m--> 476\u001b[0m     \u001b[38;5;28;01mif\u001b[39;00m   method \u001b[38;5;241m==\u001b[39m \u001b[38;5;124m'\u001b[39m\u001b[38;5;124mK-means\u001b[39m\u001b[38;5;124m'\u001b[39m:  clustering \u001b[38;5;241m=\u001b[39m KMeans(n_clusters\u001b[38;5;241m=\u001b[39mn_clusters,             \u001b[38;5;241m*\u001b[39m\u001b[38;5;241m*\u001b[39m\u001b[43mkmeans_kwargs\u001b[49m)\n\u001b[1;32m    477\u001b[0m     \u001b[38;5;28;01melif\u001b[39;00m method \u001b[38;5;241m==\u001b[39m \u001b[38;5;124m'\u001b[39m\u001b[38;5;124mSpectral\u001b[39m\u001b[38;5;124m'\u001b[39m: clustering \u001b[38;5;241m=\u001b[39m SpectralClustering(n_clusters\u001b[38;5;241m=\u001b[39mn_clusters, \u001b[38;5;241m*\u001b[39m\u001b[38;5;241m*\u001b[39mspectral_kwargs)\n\u001b[1;32m    478\u001b[0m     \u001b[38;5;28;01melse\u001b[39;00m:                      sys\u001b[38;5;241m.\u001b[39mexit(\u001b[38;5;124m'\u001b[39m\u001b[38;5;124mError: clustering method not recognized\u001b[39m\u001b[38;5;124m'\u001b[39m)\n",
      "\u001b[0;31mNameError\u001b[0m: name 'kmeans_kwargs' is not defined"
     ]
    }
   ],
   "source": [
    "# Configuring loggin information\n",
    "logging.basicConfig(\n",
    "    filename=f'../logs/identify_diffusion_{datetime.now().strftime(\"%Y-%m-%d_%H:%M:%S\")}.log',\n",
    "    format='%(asctime)s - [%(levelname)s] - %(message)s',\n",
    "    level=logging.INFO,\n",
    ")\n",
    "\n",
    "# Performing the specified task\n",
    "# Logging update\n",
    "logging.info(f'Task: Extracting diffusive paths from MD simulation at {args.MD_path}.')\n",
    "\n",
    "# Calling the library and loading the class\n",
    "inp = ID_library.xdatcar(args)\n",
    "\n",
    "# Logging update\n",
    "logging.info(f'Simulation successfully loaded.')\n",
    "\n",
    "# Computing the diffusive paths\n",
    "diffusive_paths = inp.get_diffusion(args)\n",
    "\n",
    "# Saving the results\n",
    "np.savetxt(f'{args.MD_path}/DIFFUSION', diffusive_paths)\n",
    "\n",
    "# Logging update\n",
    "logging.info(f'Diffusive information successfully extracted and saved.')"
   ]
  }
 ],
 "metadata": {
  "kernelspec": {
   "display_name": "Python 3 (ipykernel)",
   "language": "python",
   "name": "python3"
  },
  "language_info": {
   "codemirror_mode": {
    "name": "ipython",
    "version": 3
   },
   "file_extension": ".py",
   "mimetype": "text/x-python",
   "name": "python",
   "nbconvert_exporter": "python",
   "pygments_lexer": "ipython3",
   "version": "3.11.1"
  }
 },
 "nbformat": 4,
 "nbformat_minor": 5
}
